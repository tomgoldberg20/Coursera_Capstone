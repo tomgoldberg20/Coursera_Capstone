{
 "cells": [
  {
   "cell_type": "markdown",
   "metadata": {},
   "source": [
    "# Battle of the Neighborhoods: A Sandwich Shop in Santa Monica"
   ]
  },
  {
   "cell_type": "markdown",
   "metadata": {},
   "source": [
    "### Tom Goldberg"
   ]
  },
  {
   "cell_type": "markdown",
   "metadata": {},
   "source": [
    "## Introduction/Business Problem "
   ]
  },
  {
   "cell_type": "markdown",
   "metadata": {},
   "source": [
    "Let's say that I want to open a sandwich shop or deli in the city of Santa Monica, CA, and that I am trying to determine which specific neighborhood in which to start it (not accounting for whether or not a place is presently available). The thing I want to maximze here is exposure: the more people in the area that may be looking for such an establishment, the better my establishment will do. However, if there are many similar establishments in the area, this may also affect the amount of business we get. Therefore, we would need to use Foursquare to get data on where similar establishments are in the city, how much traffic they get, and how much these places earn. First, we need to be able to predict the potential revenue earnings a sandwich shop might make in each neighborhood. Further, we should see which other attributes of that neighborhood may be conducive to higher earnings, such as proximity to the beach/ bars or other destinations. Lastly, we need to look at the lack of sandwich shop density (or even the opposite?), so that we can know how the addition of our shop into the neighborhood might impact the demand for sandwich shops in the neighborhood."
   ]
  },
  {
   "cell_type": "markdown",
   "metadata": {},
   "source": [
    "## Data Requirements"
   ]
  },
  {
   "cell_type": "markdown",
   "metadata": {},
   "source": [
    "To perform this analysis, we will need the location data of all sandwich shops, including their neighborhood, coordinates, yearly/quarterly earnings, and traffic (increased traffic is likely linearly proportional to increased earnings for any given venue, but by getting both we can also see revenue per customer strategies). If Foursquare is unable to provide earnings data or if I am unable to aquire it, then the primary goal will shift towards maximizing traffic. A GeoJson file of the city of Santa Monica will also be needed should I want to plot anything on a Chloropleth map. Also, we need location data from foursquare regarding non-food venues that would attract people to the area, along with their proximity to the sandwich shops that we are observing. This way, we can incorporate attraction proximity into our model when calculating projected earnings."
   ]
  },
  {
   "cell_type": "code",
   "execution_count": null,
   "metadata": {},
   "outputs": [],
   "source": []
  }
 ],
 "metadata": {
  "kernelspec": {
   "display_name": "Python 3",
   "language": "python",
   "name": "python3"
  },
  "language_info": {
   "codemirror_mode": {
    "name": "ipython",
    "version": 3
   },
   "file_extension": ".py",
   "mimetype": "text/x-python",
   "name": "python",
   "nbconvert_exporter": "python",
   "pygments_lexer": "ipython3",
   "version": "3.7.6"
  }
 },
 "nbformat": 4,
 "nbformat_minor": 4
}
